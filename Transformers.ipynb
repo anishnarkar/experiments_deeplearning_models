{
 "cells": [
  {
   "cell_type": "code",
   "execution_count": 1,
   "metadata": {},
   "outputs": [],
   "source": [
    "import math\n",
    "import torch\n",
    "import torch.nn as nn\n",
    "import torch.nn.functional as F\n",
    "import torchtext\n",
    "from torchtext.data.utils import get_tokenizer\n",
    "\n",
    "class TransformerModel(nn.Module):\n",
    "\n",
    "    def __init__(self, ntoken, ninp, nhead, nhid, nlayers, dropout=0.5):\n",
    "        super(TransformerModel, self).__init__()\n",
    "        from torch.nn import TransformerEncoder, TransformerEncoderLayer\n",
    "        self.model_type = 'Transformer'\n",
    "        self.src_mask = None\n",
    "        self.pos_encoder = PositionalEncoding(ninp, dropout)\n",
    "        encoder_layers = TransformerEncoderLayer(ninp, nhead, nhid, dropout)\n",
    "        self.transformer_encoder = TransformerEncoder(encoder_layers, nlayers)\n",
    "        self.encoder = nn.Embedding(ntoken, ninp)\n",
    "        self.ninp = ninp\n",
    "        self.decoder = nn.Linear(ninp, ntoken)\n",
    "\n",
    "        self.init_weights()\n",
    "\n",
    "    def _generate_square_subsequent_mask(self, sz):\n",
    "        mask = (torch.triu(torch.ones(sz, sz)) == 1).transpose(0, 1)\n",
    "        mask = mask.float().masked_fill(mask == 0, float('-inf')).masked_fill(mask == 1, float(0.0))\n",
    "        return mask\n",
    "\n",
    "    def init_weights(self):\n",
    "        initrange = 0.1\n",
    "        self.encoder.weight.data.uniform_(-initrange, initrange)\n",
    "        self.decoder.bias.data.zero_()\n",
    "        self.decoder.weight.data.uniform_(-initrange, initrange)\n",
    "\n",
    "    def forward(self, src):\n",
    "        if self.src_mask is None or self.src_mask.size(0) != len(src):\n",
    "            device = src.device\n",
    "            mask = self._generate_square_subsequent_mask(len(src)).to(device)\n",
    "            self.src_mask = mask\n",
    "\n",
    "        src = self.encoder(src) * math.sqrt(self.ninp)\n",
    "        src = self.pos_encoder(src)\n",
    "        output = self.transformer_encoder(src, self.src_mask)\n",
    "        output = self.decoder(output)\n",
    "        return output"
   ]
  },
  {
   "cell_type": "code",
   "execution_count": 2,
   "metadata": {},
   "outputs": [],
   "source": [
    "class PositionalEncoding(nn.Module):\n",
    "\n",
    "    def __init__(self, d_model, dropout=0.1, max_len=5000):\n",
    "        super(PositionalEncoding, self).__init__()\n",
    "        self.dropout = nn.Dropout(p=dropout)\n",
    "\n",
    "        pe = torch.zeros(max_len, d_model)\n",
    "        position = torch.arange(0, max_len, dtype=torch.float).unsqueeze(1)\n",
    "        div_term = torch.exp(torch.arange(0, d_model, 2).float() * (-math.log(10000.0) / d_model))\n",
    "        pe[:, 0::2] = torch.sin(position * div_term)\n",
    "        pe[:, 1::2] = torch.cos(position * div_term)\n",
    "        pe = pe.unsqueeze(0).transpose(0, 1)\n",
    "        self.register_buffer('pe', pe)\n",
    "\n",
    "    def forward(self, x):\n",
    "        x = x + self.pe[:x.size(0), :]\n",
    "        return self.dropout(x)"
   ]
  },
  {
   "cell_type": "code",
   "execution_count": 5,
   "metadata": {},
   "outputs": [
    {
     "name": "stdout",
     "output_type": "stream",
     "text": [
      "downloading wikitext-2-v1.zip\n"
     ]
    },
    {
     "name": "stderr",
     "output_type": "stream",
     "text": [
      ".data\\wikitext-2\\wikitext-2-v1.zip: 100%|█████████████████████████████████████████| 4.48M/4.48M [00:01<00:00, 2.70MB/s]\n"
     ]
    },
    {
     "name": "stdout",
     "output_type": "stream",
     "text": [
      "extracting\n"
     ]
    }
   ],
   "source": [
    "# Load and batch data\n",
    "\n",
    "TEXT = torchtext.data.Field(tokenize=get_tokenizer(\"basic_english\"),\n",
    "                            init_token='<sos>',\n",
    "                            eos_token='<eos>',\n",
    "                            lower=True)\n",
    "train_txt, val_txt, test_txt = torchtext.datasets.WikiText2.splits(TEXT)\n",
    "TEXT.build_vocab(train_txt)\n",
    "device = torch.device(\"cuda\" if torch.cuda.is_available() else \"cpu\")\n",
    "\n",
    "def batchify(data, bsz):\n",
    "    data = TEXT.numericalize([data.examples[0].text])\n",
    "    # Divide the dataset into bsz parts.\n",
    "    nbatch = data.size(0) // bsz\n",
    "    # Trim off any extra elements that wouldn't cleanly fit (remainders).\n",
    "    data = data.narrow(0, 0, nbatch * bsz)\n",
    "    # Evenly divide the data across the bsz batches.\n",
    "    data = data.view(bsz, -1).t().contiguous()\n",
    "    return data.to(device)\n",
    "\n",
    "batch_size = 20\n",
    "eval_batch_size = 10\n",
    "train_data = batchify(train_txt, batch_size)\n",
    "val_data = batchify(val_txt, eval_batch_size)\n",
    "test_data = batchify(test_txt, eval_batch_size)"
   ]
  },
  {
   "cell_type": "code",
   "execution_count": 10,
   "metadata": {},
   "outputs": [],
   "source": [
    "# Generate Input-Output Sequence\n",
    "bptt = 35\n",
    "\n",
    "def get_batch(source, i):\n",
    "    seq_len = min(bptt, len(source) - 1 - i)\n",
    "    data = source[i:i+seq_len]\n",
    "    target = source[i+1:i+1+seq_len].view(-1)\n",
    "    return data, target"
   ]
  },
  {
   "cell_type": "code",
   "execution_count": 7,
   "metadata": {},
   "outputs": [],
   "source": [
    "# Initiate an instance\n",
    "\n",
    "ntokens = len(TEXT.vocab.stoi) # the size of vocabulary\n",
    "emsize = 200 # embedding dimension\n",
    "nhid = 200 # the dimension of the feedforward network model in nn.TransformerEncoder\n",
    "nlayers = 2 # the number of nn.TransformerEncoderLayer in nn.TransformerEncoder\n",
    "nhead = 2 # the number of heads in the multiheadattention models\n",
    "dropout = 0.2 # the dropout value\n",
    "model = TransformerModel(ntokens, emsize, nhead, nhid, nlayers, dropout).to(device)"
   ]
  },
  {
   "cell_type": "code",
   "execution_count": 8,
   "metadata": {},
   "outputs": [],
   "source": [
    "# Run the model \n",
    "\n",
    "criterion = nn.CrossEntropyLoss()\n",
    "lr = 5.0 # learning rate\n",
    "optimizer = torch.optim.SGD(model.parameters(), lr=lr)\n",
    "scheduler = torch.optim.lr_scheduler.StepLR(optimizer, 1.0, gamma=0.95)\n",
    "\n",
    "import time\n",
    "def train():\n",
    "    model.train() # Turn on the train mode\n",
    "    total_loss = 0.\n",
    "    start_time = time.time()\n",
    "    ntokens = len(TEXT.vocab.stoi)\n",
    "    for batch, i in enumerate(range(0, train_data.size(0) - 1, bptt)):\n",
    "        data, targets = get_batch(train_data, i)\n",
    "        optimizer.zero_grad()\n",
    "        output = model(data)\n",
    "        loss = criterion(output.view(-1, ntokens), targets)\n",
    "        loss.backward()\n",
    "        torch.nn.utils.clip_grad_norm_(model.parameters(), 0.5)\n",
    "        optimizer.step()\n",
    "\n",
    "        total_loss += loss.item()\n",
    "        log_interval = 200\n",
    "        if batch % log_interval == 0 and batch > 0:\n",
    "            cur_loss = total_loss / log_interval\n",
    "            elapsed = time.time() - start_time\n",
    "            print('| epoch {:3d} | {:5d}/{:5d} batches | '\n",
    "                  'lr {:02.2f} | ms/batch {:5.2f} | '\n",
    "                  'loss {:5.2f} | ppl {:8.2f}'.format(\n",
    "                    epoch, batch, len(train_data) // bptt, scheduler.get_lr()[0],\n",
    "                    elapsed * 1000 / log_interval,\n",
    "                    cur_loss, math.exp(cur_loss)))\n",
    "            total_loss = 0\n",
    "            start_time = time.time()\n",
    "\n",
    "def evaluate(eval_model, data_source):\n",
    "    eval_model.eval() # Turn on the evaluation mode\n",
    "    total_loss = 0.\n",
    "    ntokens = len(TEXT.vocab.stoi)\n",
    "    with torch.no_grad():\n",
    "        for i in range(0, data_source.size(0) - 1, bptt):\n",
    "            data, targets = get_batch(data_source, i)\n",
    "            output = eval_model(data)\n",
    "            output_flat = output.view(-1, ntokens)\n",
    "            total_loss += len(data) * criterion(output_flat, targets).item()\n",
    "    return total_loss / (len(data_source) - 1)"
   ]
  },
  {
   "cell_type": "code",
   "execution_count": 11,
   "metadata": {},
   "outputs": [
    {
     "name": "stderr",
     "output_type": "stream",
     "text": [
      "C:\\Users\\anark\\anaconda3\\lib\\site-packages\\torch\\optim\\lr_scheduler.py:351: UserWarning: To get the last learning rate computed by the scheduler, please use `get_last_lr()`.\n",
      "  \"please use `get_last_lr()`.\", UserWarning)\n"
     ]
    },
    {
     "name": "stdout",
     "output_type": "stream",
     "text": [
      "| epoch   1 |   200/ 2981 batches | lr 5.00 | ms/batch 106.53 | loss  8.11 | ppl  3321.98\n",
      "| epoch   1 |   400/ 2981 batches | lr 5.00 | ms/batch 104.33 | loss  6.79 | ppl   891.26\n",
      "| epoch   1 |   600/ 2981 batches | lr 5.00 | ms/batch 109.70 | loss  6.37 | ppl   581.24\n",
      "| epoch   1 |   800/ 2981 batches | lr 5.00 | ms/batch 109.53 | loss  6.23 | ppl   508.03\n",
      "| epoch   1 |  1000/ 2981 batches | lr 5.00 | ms/batch 109.15 | loss  6.11 | ppl   451.84\n",
      "| epoch   1 |  1200/ 2981 batches | lr 5.00 | ms/batch 109.47 | loss  6.08 | ppl   439.02\n",
      "| epoch   1 |  1400/ 2981 batches | lr 5.00 | ms/batch 110.24 | loss  6.04 | ppl   421.36\n",
      "| epoch   1 |  1600/ 2981 batches | lr 5.00 | ms/batch 111.31 | loss  6.05 | ppl   424.21\n",
      "| epoch   1 |  1800/ 2981 batches | lr 5.00 | ms/batch 111.06 | loss  5.96 | ppl   385.83\n",
      "| epoch   1 |  2000/ 2981 batches | lr 5.00 | ms/batch 110.49 | loss  5.96 | ppl   387.43\n",
      "| epoch   1 |  2200/ 2981 batches | lr 5.00 | ms/batch 109.83 | loss  5.85 | ppl   347.98\n",
      "| epoch   1 |  2400/ 2981 batches | lr 5.00 | ms/batch 65.74 | loss  5.90 | ppl   365.18\n",
      "| epoch   1 |  2600/ 2981 batches | lr 5.00 | ms/batch 39.94 | loss  5.90 | ppl   364.52\n",
      "| epoch   1 |  2800/ 2981 batches | lr 5.00 | ms/batch 38.48 | loss  5.81 | ppl   333.94\n",
      "-----------------------------------------------------------------------------------------\n",
      "| end of epoch   1 | time: 282.47s | valid loss  5.75 | valid ppl   314.48\n",
      "-----------------------------------------------------------------------------------------\n",
      "| epoch   2 |   200/ 2981 batches | lr 4.51 | ms/batch 36.57 | loss  5.81 | ppl   332.70\n",
      "| epoch   2 |   400/ 2981 batches | lr 4.51 | ms/batch 52.96 | loss  5.78 | ppl   322.64\n",
      "| epoch   2 |   600/ 2981 batches | lr 4.51 | ms/batch 66.62 | loss  5.61 | ppl   272.03\n",
      "| epoch   2 |   800/ 2981 batches | lr 4.51 | ms/batch 58.10 | loss  5.64 | ppl   282.82\n",
      "| epoch   2 |  1000/ 2981 batches | lr 4.51 | ms/batch 44.75 | loss  5.59 | ppl   268.42\n",
      "| epoch   2 |  1200/ 2981 batches | lr 4.51 | ms/batch 46.77 | loss  5.62 | ppl   276.41\n",
      "| epoch   2 |  1400/ 2981 batches | lr 4.51 | ms/batch 46.95 | loss  5.63 | ppl   279.63\n",
      "| epoch   2 |  1600/ 2981 batches | lr 4.51 | ms/batch 41.52 | loss  5.66 | ppl   288.26\n",
      "| epoch   2 |  1800/ 2981 batches | lr 4.51 | ms/batch 40.09 | loss  5.59 | ppl   268.73\n",
      "| epoch   2 |  2000/ 2981 batches | lr 4.51 | ms/batch 40.18 | loss  5.62 | ppl   276.69\n",
      "| epoch   2 |  2200/ 2981 batches | lr 4.51 | ms/batch 40.71 | loss  5.52 | ppl   249.17\n",
      "| epoch   2 |  2400/ 2981 batches | lr 4.51 | ms/batch 52.84 | loss  5.58 | ppl   265.51\n",
      "| epoch   2 |  2600/ 2981 batches | lr 4.51 | ms/batch 50.96 | loss  5.59 | ppl   268.96\n",
      "| epoch   2 |  2800/ 2981 batches | lr 4.51 | ms/batch 38.93 | loss  5.52 | ppl   249.00\n",
      "-----------------------------------------------------------------------------------------\n",
      "| end of epoch   2 | time: 146.83s | valid loss  5.54 | valid ppl   254.21\n",
      "-----------------------------------------------------------------------------------------\n",
      "| epoch   3 |   200/ 2981 batches | lr 4.29 | ms/batch 47.75 | loss  5.55 | ppl   257.86\n",
      "| epoch   3 |   400/ 2981 batches | lr 4.29 | ms/batch 38.87 | loss  5.55 | ppl   256.67\n",
      "| epoch   3 |   600/ 2981 batches | lr 4.29 | ms/batch 39.76 | loss  5.37 | ppl   214.12\n",
      "| epoch   3 |   800/ 2981 batches | lr 4.29 | ms/batch 37.68 | loss  5.43 | ppl   227.04\n",
      "| epoch   3 |  1000/ 2981 batches | lr 4.29 | ms/batch 37.92 | loss  5.39 | ppl   219.35\n",
      "| epoch   3 |  1200/ 2981 batches | lr 4.29 | ms/batch 38.30 | loss  5.41 | ppl   224.00\n",
      "| epoch   3 |  1400/ 2981 batches | lr 4.29 | ms/batch 52.36 | loss  5.44 | ppl   231.31\n",
      "| epoch   3 |  1600/ 2981 batches | lr 4.29 | ms/batch 56.02 | loss  5.47 | ppl   238.43\n",
      "| epoch   3 |  1800/ 2981 batches | lr 4.29 | ms/batch 44.38 | loss  5.41 | ppl   224.73\n",
      "| epoch   3 |  2000/ 2981 batches | lr 4.29 | ms/batch 37.83 | loss  5.44 | ppl   231.05\n",
      "| epoch   3 |  2200/ 2981 batches | lr 4.29 | ms/batch 45.23 | loss  5.32 | ppl   204.54\n",
      "| epoch   3 |  2400/ 2981 batches | lr 4.29 | ms/batch 42.13 | loss  5.39 | ppl   220.01\n",
      "| epoch   3 |  2600/ 2981 batches | lr 4.29 | ms/batch 41.71 | loss  5.42 | ppl   225.81\n",
      "| epoch   3 |  2800/ 2981 batches | lr 4.29 | ms/batch 39.19 | loss  5.35 | ppl   210.37\n",
      "-----------------------------------------------------------------------------------------\n",
      "| end of epoch   3 | time: 136.52s | valid loss  5.57 | valid ppl   262.15\n",
      "-----------------------------------------------------------------------------------------\n"
     ]
    }
   ],
   "source": [
    "best_val_loss = float(\"inf\")\n",
    "epochs = 3 # The number of epochs\n",
    "best_model = None\n",
    "\n",
    "for epoch in range(1, epochs + 1):\n",
    "    epoch_start_time = time.time()\n",
    "    train()\n",
    "    val_loss = evaluate(model, val_data)\n",
    "    print('-' * 89)\n",
    "    print('| end of epoch {:3d} | time: {:5.2f}s | valid loss {:5.2f} | '\n",
    "          'valid ppl {:8.2f}'.format(epoch, (time.time() - epoch_start_time),\n",
    "                                     val_loss, math.exp(val_loss)))\n",
    "    print('-' * 89)\n",
    "\n",
    "    if val_loss < best_val_loss:\n",
    "        best_val_loss = val_loss\n",
    "        best_model = model\n",
    "\n",
    "    scheduler.step()"
   ]
  },
  {
   "cell_type": "code",
   "execution_count": 12,
   "metadata": {},
   "outputs": [
    {
     "name": "stdout",
     "output_type": "stream",
     "text": [
      "=========================================================================================\n",
      "| End of training | test loss  5.48 | test ppl   240.31\n",
      "=========================================================================================\n"
     ]
    }
   ],
   "source": [
    "# Evaluate the model\n",
    "\n",
    "test_loss = evaluate(best_model, test_data)\n",
    "print('=' * 89)\n",
    "print('| End of training | test loss {:5.2f} | test ppl {:8.2f}'.format(\n",
    "    test_loss, math.exp(test_loss)))\n",
    "print('=' * 89)"
   ]
  },
  {
   "cell_type": "code",
   "execution_count": null,
   "metadata": {},
   "outputs": [],
   "source": []
  }
 ],
 "metadata": {
  "kernelspec": {
   "display_name": "Python 3",
   "language": "python",
   "name": "python3"
  },
  "language_info": {
   "codemirror_mode": {
    "name": "ipython",
    "version": 3
   },
   "file_extension": ".py",
   "mimetype": "text/x-python",
   "name": "python",
   "nbconvert_exporter": "python",
   "pygments_lexer": "ipython3",
   "version": "3.7.6"
  }
 },
 "nbformat": 4,
 "nbformat_minor": 4
}
